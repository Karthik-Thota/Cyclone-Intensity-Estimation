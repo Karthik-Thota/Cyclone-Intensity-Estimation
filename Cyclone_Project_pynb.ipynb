{
 "cells": [
  {
   "cell_type": "markdown",
   "metadata": {
    "colab_type": "text",
    "id": "view-in-github"
   },
   "source": [
    "<a href=\"https://colab.research.google.com/github/Karthik-Thota/Cyclone-Intensity-Estimation/blob/main/Cyclone_Project_pynb.ipynb\" target=\"_parent\"><img src=\"https://colab.research.google.com/assets/colab-badge.svg\" alt=\"Open In Colab\"/></a>"
   ]
  },
  {
   "cell_type": "code",
   "execution_count": null,
   "metadata": {
    "id": "JVndsrmGLdsz"
   },
   "outputs": [],
   "source": [
    "!mkdir ~/.kaggle\n",
    "!touch ~/.kaggle/kaggle.json\n",
    "\n",
    "api_token = {\"username\":\"karthikthota16\",\"key\":\"d581c09311b954406577cd3e9b1eebb0\"}\n",
    "\n",
    "import json\n",
    "\n",
    "with open('/root/.kaggle/kaggle.json', 'w') as file:\n",
    "  json.dump(api_token, file)\n",
    "\n",
    "!chmod 600 ~/.kaggle/kaggle.json"
   ]
  },
  {
   "cell_type": "code",
   "execution_count": null,
   "metadata": {
    "colab": {
     "base_uri": "https://localhost:8080/"
    },
    "id": "FRy-XhYxL8sO",
    "outputId": "5373b173-ccfc-4f7b-b934-4f1d7c634726"
   },
   "outputs": [],
   "source": [
    "!kaggle datasets download -d sshubam/insat3d-infrared-raw-cyclone-images-20132021"
   ]
  },
  {
   "cell_type": "code",
   "execution_count": null,
   "metadata": {
    "colab": {
     "base_uri": "https://localhost:8080/"
    },
    "id": "ONWkPAQLNGPI",
    "outputId": "4c4c72d9-a6a7-4b9b-a430-d66c8e5e101f"
   },
   "outputs": [],
   "source": [
    "!unzip /content/insat3d-infrared-raw-cyclone-images-20132021.zip"
   ]
  },
  {
   "cell_type": "markdown",
   "metadata": {
    "id": "3g3Z5Tr7raBU"
   },
   "source": [
    "##First we visualise the data"
   ]
  },
  {
   "cell_type": "code",
   "execution_count": null,
   "metadata": {
    "colab": {
     "base_uri": "https://localhost:8080/",
     "height": 424
    },
    "id": "f5EOeUAYrK3j",
    "outputId": "d6cae971-989b-4ffc-939e-55ced8eddd38"
   },
   "outputs": [],
   "source": [
    "import pandas as pd\n",
    "import numpy as np\n",
    "import matplotlib.pyplot as plt\n",
    "import matplotlib.image as mpimg\n",
    "pd.read_csv(\"/content/insat_3d_ds - Sheet.csv\")"
   ]
  },
  {
   "cell_type": "code",
   "execution_count": null,
   "metadata": {
    "colab": {
     "base_uri": "https://localhost:8080/"
    },
    "id": "MgwjP4MlhZ4i",
    "outputId": "e14a09d9-28fd-4a89-fde9-b99faa8a07ff"
   },
   "outputs": [],
   "source": [
    "import os\n",
    "\n",
    "# Walk through pizza_steak directory and list number of files\n",
    "for dirpath, dirnames, filenames in os.walk(\"/content/insat3d_ir_cyclone_ds\"):\n",
    "  print(f\"There are {len(dirnames)} directories and {len(filenames)} images in '{dirpath}'.\")"
   ]
  },
  {
   "cell_type": "code",
   "execution_count": null,
   "metadata": {
    "id": "gzSl610wtinZ"
   },
   "outputs": [],
   "source": [
    "os.mkdir(\"test_data\")"
   ]
  },
  {
   "cell_type": "code",
   "execution_count": null,
   "metadata": {
    "id": "jF_P-1i_tiYr"
   },
   "outputs": [],
   "source": [
    "import os\n",
    "import shutil\n",
    " \n",
    "source = '/content/insat3d_ir_cyclone_ds/CYCLONE_DATASET_INFRARED'\n",
    "destination = '/content/test_data'\n",
    " \n",
    "# gather all files\n",
    "allfiles = os.listdir(source)\n",
    " \n",
    "# iterate on all files to move them to destination folder\n",
    "for f in allfiles[133:]:\n",
    "    \n",
    "    src_path = os.path.join(source, f)\n",
    "    dst_path = os.path.join(destination, f)\n",
    "    shutil.move(src_path, dst_path)\n",
    "    "
   ]
  },
  {
   "cell_type": "code",
   "execution_count": null,
   "metadata": {
    "colab": {
     "base_uri": "https://localhost:8080/"
    },
    "id": "tl1G0OeJh_x1",
    "outputId": "df40425d-025d-42db-d53f-9566743d0d63"
   },
   "outputs": [],
   "source": [
    "#Get the classes drammatically\n",
    "import pathlib\n",
    "data_dir=pathlib.Path(\"/content/insat3d_ir_cyclone_ds\")\n",
    "data_dir"
   ]
  },
  {
   "cell_type": "code",
   "execution_count": null,
   "metadata": {
    "id": "OBfRKhxJhnDu"
   },
   "outputs": [],
   "source": [
    "#Let visualise our images \n",
    "import random\n",
    "def view_random_image(target_dir):\n",
    "  target_folder=target_dir\n",
    "  random_image=random.sample(os.listdir(target_folder),10)\n",
    "  plt.figure(figsize=(10,10))\n",
    "  for i in range(10):\n",
    "    img=mpimg.imread(target_folder+\"/\"+random_image[i])\n",
    "    plt.subplot(5,2,i+1)\n",
    "    plt.imshow(img)\n",
    "    plt.title(random_image[i])\n",
    "    plt.axis(\"off\");#Default axis is on "
   ]
  },
  {
   "cell_type": "code",
   "execution_count": null,
   "metadata": {
    "colab": {
     "base_uri": "https://localhost:8080/",
     "height": 829
    },
    "id": "gWv4AHGai-Ya",
    "outputId": "3ee9bf19-ebe6-40e9-b245-b69733fb41df"
   },
   "outputs": [],
   "source": [
    "view_random_image(\"/content/insat3d_ir_cyclone_ds/CYCLONE_DATASET_INFRARED\")"
   ]
  },
  {
   "cell_type": "code",
   "execution_count": null,
   "metadata": {
    "colab": {
     "base_uri": "https://localhost:8080/",
     "height": 829
    },
    "id": "0YG8rbe5jsPo",
    "outputId": "c4b57151-0b7e-4a7e-c638-376fd28e5311"
   },
   "outputs": [],
   "source": [
    "view_random_image(\"/content/insat3d_for_reference_ds/CYCLONE_DATASET\")"
   ]
  },
  {
   "cell_type": "code",
   "execution_count": null,
   "metadata": {
    "colab": {
     "base_uri": "https://localhost:8080/",
     "height": 829
    },
    "id": "x-xoHX3noLNC",
    "outputId": "6c2a58a6-e372-45bb-ceab-a98552aab07f"
   },
   "outputs": [],
   "source": [
    "view_random_image(\"/content/insat3d_raw_cyclone_ds/CYCLONE_DATASET_FINAL\")"
   ]
  },
  {
   "cell_type": "markdown",
   "metadata": {
    "id": "PEi0HudEoS_x"
   },
   "source": [
    "#Preprocess the data"
   ]
  },
  {
   "cell_type": "code",
   "execution_count": null,
   "metadata": {
    "id": "ILNcApC_qLc8"
   },
   "outputs": [],
   "source": [
    "import tensorflow as tf\n",
    "from tensorflow.keras.preprocessing.image import ImageDataGenerator\n",
    "train=pd.read_csv(\"/content/insat_3d_ds - Sheet.csv\")"
   ]
  },
  {
   "cell_type": "code",
   "execution_count": null,
   "metadata": {
    "colab": {
     "base_uri": "https://localhost:8080/"
    },
    "id": "QomCbYWaqhmE",
    "outputId": "76978d1d-06df-4a4b-91dc-5f92f1b7ed74"
   },
   "outputs": [],
   "source": [
    "train_dir=\"/content/insat3d_ir_cyclone_ds/CYCLONE_DATASET_INFRARED\"\n",
    "train_datagen=ImageDataGenerator(rescale=1./255)\n",
    "train_data=train_datagen.flow_from_dataframe(train,train_dir,\n",
    "                                             x_col='img_name',\n",
    "                                             y_col=\"label\",\n",
    "                                             subset='training',\n",
    "                                             target_size=(256,256),\n",
    "                                             batch_size=16,\n",
    "                                             class_mode=\"raw\"\n",
    "                                             )\n"
   ]
  },
  {
   "cell_type": "markdown",
   "metadata": {
    "id": "U7f_2ScTvQvL"
   },
   "source": [
    "#Create a model"
   ]
  },
  {
   "cell_type": "code",
   "execution_count": null,
   "metadata": {
    "id": "y8KhWQVCH_KG"
   },
   "outputs": [],
   "source": [
    "from tensorflow.keras.layers import Conv2D,MaxPool2D,Flatten,Dense,Dropout,Input\n",
    "from tensorflow.keras import regularizers\n",
    "from tensorflow.keras.models import Model\n",
    "inputs=Input(shape=(256,256,3))\n",
    "y=Conv2D(256,3,activation=None, padding=\"same\",kernel_initializer=\"he_normal\",kernel_regularizer=regularizers.L1L2(0.01))(inputs)\n",
    "y=tf.keras.layers.BatchNormalization()(y)\n",
    "y=tf.keras.activations.relu(y)\n",
    "y=Conv2D(256,3,activation=None, padding=\"same\",kernel_initializer=\"he_normal\",kernel_regularizer=regularizers.L1L2(0.01))(y)\n",
    "y=tf.keras.layers.BatchNormalization()(y)\n",
    "y=tf.keras.activations.relu(y)\n",
    "y=MaxPool2D()(y)\n",
    "\n",
    "y=Conv2D(256,3,activation=None, padding=\"same\",kernel_initializer=\"he_normal\",kernel_regularizer=regularizers.L1L2(0.01))(y)\n",
    "y=tf.keras.layers.BatchNormalization()(y)\n",
    "y=tf.keras.activations.relu(y)\n",
    "y=Conv2D(128,3,activation=None, padding=\"same\",kernel_initializer=\"he_normal\",kernel_regularizer=regularizers.L1L2(0.01))(y)\n",
    "y=tf.keras.layers.BatchNormalization()(y)\n",
    "y=tf.keras.activations.relu(y)\n",
    "y=MaxPool2D()(y)\n",
    "\n",
    "y=Conv2D(128,3,activation=None, padding=\"same\",kernel_initializer=\"he_normal\",kernel_regularizer=regularizers.L1L2(0.01))(y)\n",
    "y=tf.keras.layers.BatchNormalization()(y)\n",
    "y=tf.keras.activations.relu(y)\n",
    "y=Conv2D(64,3,activation=None, padding=\"same\",kernel_initializer=\"he_normal\",kernel_regularizer=regularizers.L1L2(0.01))(y)\n",
    "y=tf.keras.layers.BatchNormalization()(y)\n",
    "y=tf.keras.activations.relu(y)\n",
    "y=MaxPool2D()(y)\n",
    "\n",
    "y=Conv2D(64,3,activation=None, padding=\"same\",kernel_initializer=\"he_normal\",kernel_regularizer=regularizers.L1L2(0.01))(y)\n",
    "y=tf.keras.layers.BatchNormalization()(y)\n",
    "y=tf.keras.activations.relu(y)\n",
    "y=Conv2D(32,3,activation=None, padding=\"same\",kernel_initializer=\"he_normal\",kernel_regularizer=regularizers.L1L2(0.01))(y)\n",
    "y=tf.keras.layers.BatchNormalization()(y)\n",
    "y=tf.keras.activations.relu(y)\n",
    "y=MaxPool2D()(y)\n",
    "\n",
    "y=Conv2D(32,3,activation=None, padding=\"same\",kernel_initializer=\"he_normal\",kernel_regularizer=regularizers.L1L2(0.01))(y)\n",
    "y=tf.keras.layers.BatchNormalization()(y)\n",
    "y=tf.keras.activations.relu(y)\n",
    "y=Conv2D(16,3,activation=None, padding=\"same\",kernel_initializer=\"he_normal\",kernel_regularizer=regularizers.L1L2(0.01))(y)\n",
    "y=tf.keras.layers.BatchNormalization()(y)\n",
    "y=tf.keras.activations.relu(y)\n",
    "y=MaxPool2D()(y)\n",
    "\n",
    "y= Flatten()(y)\n",
    "outputs=Dense(1,activation='linear')(y)\n",
    "model_1=Model(inputs=inputs,outputs=outputs)"
   ]
  },
  {
   "cell_type": "code",
   "execution_count": null,
   "metadata": {
    "colab": {
     "base_uri": "https://localhost:8080/"
    },
    "id": "jUCu0l09IVXi",
    "outputId": "909a3bec-d134-4cdd-b6e3-5303ec8dd74a"
   },
   "outputs": [],
   "source": [
    "model_1.summary()"
   ]
  },
  {
   "cell_type": "code",
   "execution_count": null,
   "metadata": {
    "colab": {
     "base_uri": "https://localhost:8080/"
    },
    "id": "2B0bYQvZp7xS",
    "outputId": "0b1e4e77-57dc-4c69-f5f5-25b803ce5468"
   },
   "outputs": [],
   "source": [
    "model_1.compile(loss=tf.keras.losses.mse,\n",
    "                optimizer=tf.keras.optimizers.Adam(lr=0.002),\n",
    "                metrics=[\"mse\"])\n",
    "early_stopping=tf.keras.callbacks.EarlyStopping(monitor=\"loss\",patience=10,mode='min')"
   ]
  },
  {
   "cell_type": "code",
   "execution_count": null,
   "metadata": {
    "colab": {
     "base_uri": "https://localhost:8080/"
    },
    "id": "R7bcNSjfp_Th",
    "outputId": "3b695866-6f21-4a24-a12d-018523b14ec5"
   },
   "outputs": [],
   "source": [
    "history_1=model_1.fit(train_data,\n",
    "                      epochs=50,callbacks=[early_stopping])"
   ]
  },
  {
   "cell_type": "code",
   "execution_count": null,
   "metadata": {
    "colab": {
     "base_uri": "https://localhost:8080/",
     "height": 472
    },
    "id": "JuLOHKN8eiHB",
    "outputId": "27d7489a-c51f-4c59-f77a-cb921132ad74"
   },
   "outputs": [],
   "source": [
    "plt.plot(history_1.history['loss'])\n",
    "plt.title('model loss')\n",
    "plt.ylabel('loss')\n",
    "plt.xlabel('epoch')\n",
    "plt.show()"
   ]
  },
  {
   "cell_type": "code",
   "execution_count": null,
   "metadata": {
    "id": "mvEdkrtGr9wE"
   },
   "outputs": [],
   "source": [
    "def load_and_prep_image(filename, img_shape=256):\n",
    "  \n",
    "  img = tf.io.read_file(filename)\n",
    "  img = tf.image.decode_image(img, channels=3)\n",
    "  img = tf.image.resize(img, size = [img_shape, img_shape])\n",
    "  img = img/255.\n",
    "  return img"
   ]
  },
  {
   "cell_type": "code",
   "execution_count": null,
   "metadata": {
    "id": "8Rrs1nt3sTcJ"
   },
   "outputs": [],
   "source": [
    "def pred_and_plot(model, filename):\n",
    "  img = load_and_prep_image(filename)\n",
    "\n",
    "  # Make a prediction\n",
    "  pred = model.predict(tf.expand_dims(img, axis=0))\n",
    "  \n",
    "# Plot the image and predicted value\n",
    "  plt.imshow(img)\n",
    "  plt.title(f\"Prediction: {pred}\")\n",
    "  plt.axis(False);"
   ]
  },
  {
   "cell_type": "code",
   "execution_count": null,
   "metadata": {
    "colab": {
     "base_uri": "https://localhost:8080/",
     "height": 446
    },
    "id": "1lrFuxxP_fE_",
    "outputId": "0656df5b-490d-41e8-bdec-bab1f83ebd78"
   },
   "outputs": [],
   "source": [
    "pred_and_plot(model_1,\"/content/test_data/35.jpg\")"
   ]
  },
  {
   "cell_type": "code",
   "execution_count": null,
   "metadata": {
    "colab": {
     "base_uri": "https://localhost:8080/",
     "height": 446
    },
    "id": "hzh0inKpAnyn",
    "outputId": "a18c75ae-1e1f-4db2-d660-7f9b025d11f6"
   },
   "outputs": [],
   "source": [
    "pred_and_plot(model_1,\"/content/test_data/36(2).jpg\")"
   ]
  },
  {
   "cell_type": "code",
   "execution_count": null,
   "metadata": {
    "colab": {
     "base_uri": "https://localhost:8080/",
     "height": 446
    },
    "id": "3WzM8g_RAuCj",
    "outputId": "fea5089a-46df-435f-8555-c8a9709b8fba"
   },
   "outputs": [],
   "source": [
    "pred_and_plot(model_1,\"/content/test_data/47(2).jpg\")"
   ]
  },
  {
   "cell_type": "code",
   "execution_count": null,
   "metadata": {
    "colab": {
     "base_uri": "https://localhost:8080/",
     "height": 446
    },
    "id": "DnPPZ5bPAyl8",
    "outputId": "b0788792-984c-4eec-daac-c4d83e8345a6"
   },
   "outputs": [],
   "source": [
    "pred_and_plot(model_1,\"/content/insat3d_ir_cyclone_ds/CYCLONE_DATASET_INFRARED/69.jpg\")"
   ]
  },
  {
   "cell_type": "code",
   "execution_count": null,
   "metadata": {
    "colab": {
     "base_uri": "https://localhost:8080/",
     "height": 446
    },
    "id": "dq2YNYZgA1fN",
    "outputId": "ac224f08-57f9-42ff-f1e1-71647678bd62"
   },
   "outputs": [],
   "source": [
    "pred_and_plot(model_1,\"/content/insat3d_ir_cyclone_ds/CYCLONE_DATASET_INFRARED/85(2).jpg\")"
   ]
  },
  {
   "cell_type": "code",
   "execution_count": null,
   "metadata": {
    "colab": {
     "base_uri": "https://localhost:8080/",
     "height": 446
    },
    "id": "xIkB5DuPA4q6",
    "outputId": "9b0775d7-1b40-4337-8859-0a996ddaa0f2"
   },
   "outputs": [],
   "source": [
    "pred_and_plot(model_1,\"/content/insat3d_ir_cyclone_ds/CYCLONE_DATASET_INFRARED/94.jpg\")"
   ]
  }
 ],
 "metadata": {
  "accelerator": "GPU",
  "colab": {
   "include_colab_link": true,
   "provenance": []
  },
  "gpuClass": "standard",
  "kernelspec": {
   "display_name": "Python 3",
   "name": "python3"
  },
  "language_info": {
   "codemirror_mode": {
    "name": "ipython",
    "version": 3
   },
   "file_extension": ".py",
   "mimetype": "text/x-python",
   "name": "python",
   "nbconvert_exporter": "python",
   "pygments_lexer": "ipython3",
   "version": "3.12.2"
  }
 },
 "nbformat": 4,
 "nbformat_minor": 0
}
